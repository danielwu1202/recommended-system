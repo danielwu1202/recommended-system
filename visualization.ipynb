{
 "cells": [
  {
   "cell_type": "code",
   "execution_count": 6,
   "metadata": {},
   "outputs": [],
   "source": [
    "import numpy as np\n",
    "import pandas as pd\n",
    "import matplotlib.pyplot as plt\n",
    "from pylab import mpl\n",
    "import warnings\n",
    "warnings.filterwarnings('ignore')\n",
    "%matplotlib inline"
   ]
  },
  {
   "cell_type": "code",
   "execution_count": 8,
   "metadata": {},
   "outputs": [
    {
     "data": {
      "text/html": [
       "<div>\n",
       "<style scoped>\n",
       "    .dataframe tbody tr th:only-of-type {\n",
       "        vertical-align: middle;\n",
       "    }\n",
       "\n",
       "    .dataframe tbody tr th {\n",
       "        vertical-align: top;\n",
       "    }\n",
       "\n",
       "    .dataframe thead th {\n",
       "        text-align: right;\n",
       "    }\n",
       "</style>\n",
       "<table border=\"1\" class=\"dataframe\">\n",
       "  <thead>\n",
       "    <tr style=\"text-align: right;\">\n",
       "      <th></th>\n",
       "      <th>產品類別</th>\n",
       "      <th>產品名稱</th>\n",
       "      <th>價格</th>\n",
       "      <th>產品介紹</th>\n",
       "    </tr>\n",
       "  </thead>\n",
       "  <tbody>\n",
       "    <tr>\n",
       "      <th>1</th>\n",
       "      <td>畢業</td>\n",
       "      <td>畢業禮物復古文藝羽毛筆</td>\n",
       "      <td>490</td>\n",
       "      <td>書寫是人類最了不起的技能之一! 書寫的內容和書寫工具使人類文化得以延續 根據紀錄 羽毛筆作為...</td>\n",
       "    </tr>\n",
       "    <tr>\n",
       "      <th>2</th>\n",
       "      <td>畢業</td>\n",
       "      <td>【推薦】畢業熊花束</td>\n",
       "      <td>1399</td>\n",
       "      <td>鳳凰花開的象徵不是別離 而是期待間更好的彼此 給你一個大熊抱 作為我滿滿祝福</td>\n",
       "    </tr>\n",
       "    <tr>\n",
       "      <th>3</th>\n",
       "      <td>畢業</td>\n",
       "      <td>學生畢業拍照道具</td>\n",
       "      <td>390</td>\n",
       "      <td>讓瞬間的回憶變成永恆 敬 我們的青春 那些有笑有淚的日子 最後拍張照吧! 替我們的學生時代畫...</td>\n",
       "    </tr>\n",
       "    <tr>\n",
       "      <th>4</th>\n",
       "      <td>寵物</td>\n",
       "      <td>二合一寵物快乾吹毛梳</td>\n",
       "      <td>1980</td>\n",
       "      <td>每次給愛寵洗完澡 總是有吹乾的困擾 這款二合一寵物順毛吹風機 吹乾的同時順便將毛髮梳順 不鏽...</td>\n",
       "    </tr>\n",
       "    <tr>\n",
       "      <th>5</th>\n",
       "      <td>寵物</td>\n",
       "      <td>手繪動物系客製慶生盤</td>\n",
       "      <td>820</td>\n",
       "      <td>NaN</td>\n",
       "    </tr>\n",
       "    <tr>\n",
       "      <th>6</th>\n",
       "      <td>寵物</td>\n",
       "      <td>貓咪隧道</td>\n",
       "      <td>1290</td>\n",
       "      <td>NaN</td>\n",
       "    </tr>\n",
       "    <tr>\n",
       "      <th>7</th>\n",
       "      <td>情侶</td>\n",
       "      <td>愛的模樣｜100種戀愛挑戰</td>\n",
       "      <td>680</td>\n",
       "      <td>充滿儀式感的遊戲 就從你我寫下姓名這一刻開始</td>\n",
       "    </tr>\n",
       "    <tr>\n",
       "      <th>8</th>\n",
       "      <td>情侶</td>\n",
       "      <td>滿滿的我愛你膠囊情書禮盒</td>\n",
       "      <td>450</td>\n",
       "      <td>當愛情的美妙之花盛開在心間時 你會發現 其實美麗的愛情是有顏色的 那是紅色的愛情</td>\n",
       "    </tr>\n",
       "    <tr>\n",
       "      <th>9</th>\n",
       "      <td>情侶</td>\n",
       "      <td>親嘴情侶對杯</td>\n",
       "      <td>680</td>\n",
       "      <td>時間和空間的轉變 唯一不變的是我對你的思念 親嘴情侶變色對杯 注入熱水 讓情話浮現在你眼前</td>\n",
       "    </tr>\n",
       "    <tr>\n",
       "      <th>10</th>\n",
       "      <td>NaN</td>\n",
       "      <td>瘋狂玩樂遊戲機立體造型卡片</td>\n",
       "      <td>720</td>\n",
       "      <td>開拓你的眼界 享受新世界 能玩、能送禮、能作紀念的全新造型卡片 遊戲機不只是玩具 而是我們的...</td>\n",
       "    </tr>\n",
       "    <tr>\n",
       "      <th>11</th>\n",
       "      <td>NaN</td>\n",
       "      <td>無力炸醬麵二合一抱枕毯</td>\n",
       "      <td>990</td>\n",
       "      <td>惡搞炸醬麵抱枕毯 以假亂真的泡麵毯子真的太鬧了 看著看著都想來碗炸醬麵了 珊瑚絨毯子超柔軟舒...</td>\n",
       "    </tr>\n",
       "    <tr>\n",
       "      <th>12</th>\n",
       "      <td>NaN</td>\n",
       "      <td>夏夜星空｜夜光筆記本</td>\n",
       "      <td>450</td>\n",
       "      <td>唯美的夜光筆記本 封面凸起部分有夜光效果 彩色內頁可180度平攤書寫</td>\n",
       "    </tr>\n",
       "    <tr>\n",
       "      <th>13</th>\n",
       "      <td>NaN</td>\n",
       "      <td>可愛超人狗狗存錢筒</td>\n",
       "      <td>390</td>\n",
       "      <td>超人們化身可愛狗狗 來替你存錢啦  不管是正義的代表  還是反派的角色  都可以守護你的零錢</td>\n",
       "    </tr>\n",
       "    <tr>\n",
       "      <th>14</th>\n",
       "      <td>NaN</td>\n",
       "      <td>多功能磁吸式牙刷收納置物架</td>\n",
       "      <td>490</td>\n",
       "      <td>磁力懸掛漱口杯 拿取方便防水又瀝水 擠牙膏器可拆卸  清洗簡單又方便</td>\n",
       "    </tr>\n",
       "    <tr>\n",
       "      <th>15</th>\n",
       "      <td>NaN</td>\n",
       "      <td>輕巧好攜帶紫外線消毒棒</td>\n",
       "      <td>1280</td>\n",
       "      <td>出門在外沒有酒精可以消毒 多用途，照射範圍廣，省時又省力</td>\n",
       "    </tr>\n",
       "    <tr>\n",
       "      <th>16</th>\n",
       "      <td>NaN</td>\n",
       "      <td>吐司麵包表情抱枕</td>\n",
       "      <td>390</td>\n",
       "      <td>麵包控注意！ 香噴噴熱騰騰 の吐司即將出爐 不管是金黃酥脆 還是微焦酥香的 兩種口味一次滿足...</td>\n",
       "    </tr>\n",
       "    <tr>\n",
       "      <th>17</th>\n",
       "      <td>NaN</td>\n",
       "      <td>台幣美金鈔票造型毛巾</td>\n",
       "      <td>390</td>\n",
       "      <td>超仿真的創意鈔票毛巾浴巾 想體驗被鈔票蓋滿全身的感覺嗎?  買一條讓你蓋好蓋滿XDD 當成禮...</td>\n",
       "    </tr>\n",
       "    <tr>\n",
       "      <th>18</th>\n",
       "      <td>NaN</td>\n",
       "      <td>會害羞的狗狗暖手行動充</td>\n",
       "      <td>1280</td>\n",
       "      <td>今年冬天最萌的暖手充 絕對非它們莫屬啦! 超可愛的圓滾滾外型 配上憨憨呆呆的表情~ 還沒開啟...</td>\n",
       "    </tr>\n",
       "  </tbody>\n",
       "</table>\n",
       "</div>"
      ],
      "text/plain": [
       "   產品類別           產品名稱    價格  \\\n",
       "1    畢業    畢業禮物復古文藝羽毛筆   490   \n",
       "2    畢業      【推薦】畢業熊花束  1399   \n",
       "3    畢業       學生畢業拍照道具   390   \n",
       "4    寵物     二合一寵物快乾吹毛梳  1980   \n",
       "5    寵物     手繪動物系客製慶生盤   820   \n",
       "6    寵物           貓咪隧道  1290   \n",
       "7    情侶  愛的模樣｜100種戀愛挑戰   680   \n",
       "8    情侶   滿滿的我愛你膠囊情書禮盒   450   \n",
       "9    情侶         親嘴情侶對杯   680   \n",
       "10  NaN  瘋狂玩樂遊戲機立體造型卡片   720   \n",
       "11  NaN    無力炸醬麵二合一抱枕毯   990   \n",
       "12  NaN     夏夜星空｜夜光筆記本   450   \n",
       "13  NaN      可愛超人狗狗存錢筒   390   \n",
       "14  NaN  多功能磁吸式牙刷收納置物架   490   \n",
       "15  NaN    輕巧好攜帶紫外線消毒棒  1280   \n",
       "16  NaN       吐司麵包表情抱枕   390   \n",
       "17  NaN     台幣美金鈔票造型毛巾   390   \n",
       "18  NaN    會害羞的狗狗暖手行動充  1280   \n",
       "\n",
       "                                                 產品介紹  \n",
       "1   書寫是人類最了不起的技能之一! 書寫的內容和書寫工具使人類文化得以延續 根據紀錄 羽毛筆作為...  \n",
       "2              鳳凰花開的象徵不是別離 而是期待間更好的彼此 給你一個大熊抱 作為我滿滿祝福  \n",
       "3   讓瞬間的回憶變成永恆 敬 我們的青春 那些有笑有淚的日子 最後拍張照吧! 替我們的學生時代畫...  \n",
       "4   每次給愛寵洗完澡 總是有吹乾的困擾 這款二合一寵物順毛吹風機 吹乾的同時順便將毛髮梳順 不鏽...  \n",
       "5                                                 NaN  \n",
       "6                                                 NaN  \n",
       "7                              充滿儀式感的遊戲 就從你我寫下姓名這一刻開始  \n",
       "8            當愛情的美妙之花盛開在心間時 你會發現 其實美麗的愛情是有顏色的 那是紅色的愛情  \n",
       "9       時間和空間的轉變 唯一不變的是我對你的思念 親嘴情侶變色對杯 注入熱水 讓情話浮現在你眼前  \n",
       "10  開拓你的眼界 享受新世界 能玩、能送禮、能作紀念的全新造型卡片 遊戲機不只是玩具 而是我們的...  \n",
       "11  惡搞炸醬麵抱枕毯 以假亂真的泡麵毯子真的太鬧了 看著看著都想來碗炸醬麵了 珊瑚絨毯子超柔軟舒...  \n",
       "12                 唯美的夜光筆記本 封面凸起部分有夜光效果 彩色內頁可180度平攤書寫  \n",
       "13     超人們化身可愛狗狗 來替你存錢啦  不管是正義的代表  還是反派的角色  都可以守護你的零錢  \n",
       "14                 磁力懸掛漱口杯 拿取方便防水又瀝水 擠牙膏器可拆卸  清洗簡單又方便  \n",
       "15                       出門在外沒有酒精可以消毒 多用途，照射範圍廣，省時又省力  \n",
       "16  麵包控注意！ 香噴噴熱騰騰 の吐司即將出爐 不管是金黃酥脆 還是微焦酥香的 兩種口味一次滿足...  \n",
       "17  超仿真的創意鈔票毛巾浴巾 想體驗被鈔票蓋滿全身的感覺嗎?  買一條讓你蓋好蓋滿XDD 當成禮...  \n",
       "18  今年冬天最萌的暖手充 絕對非它們莫屬啦! 超可愛的圓滾滾外型 配上憨憨呆呆的表情~ 還沒開啟...  "
      ]
     },
     "execution_count": 8,
     "metadata": {},
     "output_type": "execute_result"
    }
   ],
   "source": [
    "data_path = 'C:/Users/USER/Desktop/giftern project/結果/'\n",
    "gift_list = pd.read_csv(data_path + '禮物名單-視覺化.csv')\n",
    "\n",
    "gift_list.index = gift_list.index + 1\n",
    "gift_list.head(18)"
   ]
  },
  {
   "cell_type": "code",
   "execution_count": 2,
   "metadata": {},
   "outputs": [],
   "source": [
    "mpl.rcParams[\"font.sans-serif\"] = [\"MingLiU\"]"
   ]
  },
  {
   "cell_type": "code",
   "execution_count": 17,
   "metadata": {},
   "outputs": [
    {
     "data": {
      "image/png": "[encoded data removed]",
      "text/plain": [
       "<Figure size 432x288 with 1 Axes>"
      ]
     },
     "metadata": {
      "needs_background": "light"
     },
     "output_type": "display_data"
    }
   ],
   "source": [
    "# 瘋狂玩樂遊戲機立體造型卡片分析結果\n",
    "x = [u'情侶', u'玫瑰花', u'畢業',\n",
    "     u'愛你', u'浪漫', u'暖心', u'狗',]\n",
    "y = [0.1867588758468628, 0.13414958119392395, \n",
    "     0.12459571659564972, 0.11444360017776489, 0.08751729875802994, 0.08574152737855911, 0.08455470949411392]\n",
    "plt.title(\"瘋狂玩樂遊戲機立體造型卡片分析結果\")\n",
    "plt.xlabel(\"Similarity\")\n",
    "\n",
    "plt.barh(x, y)\n",
    "plt.savefig('瘋狂玩樂遊戲機立體造型卡片分析結果.png')"
   ]
  },
  {
   "cell_type": "code",
   "execution_count": 6,
   "metadata": {},
   "outputs": [
    {
     "data": {
      "text/plain": [
       "<BarContainer object of 9 artists>"
      ]
     },
     "execution_count": 6,
     "metadata": {},
     "output_type": "execute_result"
    },
    {
     "data": {
      "image/png": "[encoded data removed]",
      "text/plain": [
       "<Figure size 432x288 with 1 Axes>"
      ]
     },
     "metadata": {
      "needs_background": "light"
     },
     "output_type": "display_data"
    }
   ],
   "source": [
    "# 無力炸醬麵二合一抱枕毯分析結果\n",
    "x_1 = [u'養貓', u'柴犬', u'親嘴', u'對杯', \n",
    "     u'汪星人', u'狗', u'同學', u'寵物', u'玫瑰花']\n",
    "y_1 = [0.21318566799163818, 0.1884070485830307, 0.17235010862350464, \n",
    "     0.15148642659187317, 0.14774329960346222, 0.1473357081413269, 0.14146274328231812, 0.13496218621730804, 0.13023048639297485]\n",
    "plt.title(\"無力炸醬麵二合一抱枕毯分析結果\")\n",
    "plt.xlabel(\"Similarity\")\n",
    "\n",
    "plt.barh(x_1, y_1)\n",
    "plt.savefig('瘋狂玩樂遊戲機立體造型卡片分析結果.png')"
   ]
  },
  {
   "cell_type": "code",
   "execution_count": 18,
   "metadata": {},
   "outputs": [
    {
     "data": {
      "image/png": "[encoded data removed]",
      "text/plain": [
       "<Figure size 432x288 with 1 Axes>"
      ]
     },
     "metadata": {
      "needs_background": "light"
     },
     "output_type": "display_data"
    }
   ],
   "source": [
    "# 夜光筆記本分析結果\n",
    "x_2 = [u'回憶', u'狗', u'養貓', u'柴犬', u'海鮮',\n",
    "     u'另一半', u'我愛你', u'永生', u'抬頭貓', u'愛你']\n",
    "y_2 = [0.21907907724380493, 0.21907907724380493, 0.1305726021528244, 0.12749631702899933, \n",
    "     0.12706762552261353, 0.12362873554229736, 0.11667095869779587, 0.11639024317264557, 0.11545112729072571, 0.10586003214120865]\n",
    "plt.title(\"夏夜星空｜夜光筆記本分析結果\")\n",
    "plt.xlabel(\"Similarity\")\n",
    "\n",
    "plt.barh(x_2, y_2)\n",
    "plt.savefig('夏夜星空｜夜光筆記本分析結果.png')"
   ]
  },
  {
   "cell_type": "code",
   "execution_count": 19,
   "metadata": {},
   "outputs": [
    {
     "data": {
      "image/png": "[encoded data removed]",
      "text/plain": [
       "<Figure size 432x288 with 1 Axes>"
      ]
     },
     "metadata": {
      "needs_background": "light"
     },
     "output_type": "display_data"
    }
   ],
   "source": [
    "# 可愛超人狗狗存錢筒分析結果\n",
    "x_3 = [u'花', u'柯基', u'永遠', u'同學', u'青春',\n",
    "     u'情話', u'玫瑰', u'柯基控']\n",
    "y_3 = [0.137567400932312, 0.1333131194114685, 0.12669768929481506, 0.12355145812034607, \n",
    "     0.12323030084371567, 0.10433367639780045, 0.10398781299591064, 0.09586445987224579]\n",
    "plt.title(\"可愛超人狗狗存錢筒分析結果\")\n",
    "plt.xlabel(\"Similarity\")\n",
    "\n",
    "plt.barh(x_3, y_3)\n",
    "plt.savefig('可愛超人狗狗存錢筒分析結果.png')"
   ]
  },
  {
   "cell_type": "code",
   "execution_count": 20,
   "metadata": {},
   "outputs": [
    {
     "data": {
      "image/png": "[encoded data removed]",
      "text/plain": [
       "<Figure size 432x288 with 1 Axes>"
      ]
     },
     "metadata": {
      "needs_background": "light"
     },
     "output_type": "display_data"
    }
   ],
   "source": [
    "# 多功能磁吸式牙刷收納置物架分析結果\n",
    "x_4 = [u'貓咪', u'海鮮', u'我愛你', u'回憶', u'友情',\n",
    "     u'愛寵', u'暖心']\n",
    "y_4 = [0.19075480103492737, 0.1867329329252243, 0.1472160965204239, 0.14509060978889465, \n",
    "     0.1328069418668747, 0.11489785462617874, 0.09445860981941223]\n",
    "plt.title(\"多功能磁吸式牙刷收納置物架分析結果\")\n",
    "plt.xlabel(\"Similarity\")\n",
    "\n",
    "plt.barh(x_4, y_4)\n",
    "plt.savefig('多功能磁吸式牙刷收納置物架分析結果.png')"
   ]
  },
  {
   "cell_type": "code",
   "execution_count": 21,
   "metadata": {},
   "outputs": [
    {
     "data": {
      "image/png": "[encoded data removed]",
      "text/plain": [
       "<Figure size 432x288 with 1 Axes>"
      ]
     },
     "metadata": {
      "needs_background": "light"
     },
     "output_type": "display_data"
    }
   ],
   "source": [
    "# 輕巧好攜帶紫外線消毒棒分析結果\n",
    "x_5 = [u'浪漫', u'高中', u'鏟屎官', u'定情', u'柯基控',\n",
    "     u'畢業季', u'友情', u'永生', u'畢業']\n",
    "y_5 = [0.24778379499912262, 0.14016734063625336, 0.12268507480621338, 0.1188001036643982, \n",
    "     0.11027691513299942, 0.10151350498199463, 0.09779112040996552, 0.08606070280075073, 0.07634305953979492]\n",
    "plt.title(\"輕巧好攜帶紫外線消毒棒分析結果\")\n",
    "plt.xlabel(\"Similarity\")\n",
    "\n",
    "plt.barh(x_5, y_5)\n",
    "plt.savefig('輕巧好攜帶紫外線消毒棒分析結果.png')"
   ]
  },
  {
   "cell_type": "code",
   "execution_count": 22,
   "metadata": {},
   "outputs": [
    {
     "data": {
      "image/png": "[encoded data removed]",
      "text/plain": [
       "<Figure size 432x288 with 1 Axes>"
      ]
     },
     "metadata": {
      "needs_background": "light"
     },
     "output_type": "display_data"
    }
   ],
   "source": [
    "# 吐司麵包表情抱枕分析結果\n",
    "x_6 = [u'情話', u'求婚', u'汪星人', u'柯基控', u'狗狗',\n",
    "     u'愛', u'暖心', u'烤魚', u'青春']\n",
    "y_6 = [0.19839546084403992, 0.19181159138679504, 0.17811278998851776, 0.15892989933490753, \n",
    "     0.10482454299926758, 0.10309931635856628, 0.09032177180051804, 0.08464285731315613, 0.07816208899021149]\n",
    "plt.title(\"吐司麵包表情抱枕分析結果\")\n",
    "plt.xlabel(\"Similarity\")\n",
    "\n",
    "plt.barh(x_6, y_6)\n",
    "plt.savefig('吐司麵包表情抱枕分析結果.png')"
   ]
  },
  {
   "cell_type": "code",
   "execution_count": 23,
   "metadata": {},
   "outputs": [
    {
     "data": {
      "image/png": "[encoded data removed]",
      "text/plain": [
       "<Figure size 432x288 with 1 Axes>"
      ]
     },
     "metadata": {
      "needs_background": "light"
     },
     "output_type": "display_data"
    }
   ],
   "source": [
    "# 台幣美金鈔票造型毛巾分析結果\n",
    "x_7 = [u'青春', u'同學', u'愛情', u'戀愛', u'海鮮',\n",
    "     u'畢業', u'柯基', u'男友', u'情侶']\n",
    "y_7 = [0.36820369958877563, 0.21163183450698853, 0.19999267160892487, 0.18104708194732666, \n",
    "     0.17008152604103088, 0.16777673363685608, 0.14495791494846344, 0.13680444657802582, 0.12336759269237518]\n",
    "plt.title(\"台幣美金鈔票造型毛巾分析結果\")\n",
    "plt.xlabel(\"Similarity\")\n",
    "\n",
    "plt.barh(x_7, y_7)\n",
    "plt.savefig('台幣美金鈔票造型毛巾分析結果.png')"
   ]
  },
  {
   "cell_type": "code",
   "execution_count": 24,
   "metadata": {},
   "outputs": [
    {
     "data": {
      "image/png": "[encoded data removed]",
      "text/plain": [
       "<Figure size 432x288 with 1 Axes>"
      ]
     },
     "metadata": {
      "needs_background": "light"
     },
     "output_type": "display_data"
    }
   ],
   "source": [
    "# 會害羞的狗狗暖手行動充\n",
    "x_8 = [u'定情', u'回憶', u'鏟屎官', u'萌柴', u'情侶',\n",
    "     u'浪漫', u'畢業季', u'青春']\n",
    "y_8 = [0.23311972618103027, 0.20708362758159637, 0.18010573089122772, 0.15161828696727753, \n",
    "     0.1371924877166748, 0.1322827935218811, 0.12876027822494507, 0.1060405746102333]\n",
    "plt.title(\"會害羞的狗狗暖手行動充分析結果\")\n",
    "plt.xlabel(\"Similarity\")\n",
    "\n",
    "plt.barh(x_8, y_8)\n",
    "plt.savefig('會害羞的狗狗暖手行動充分析結果.png')"
   ]
  },
  {
   "cell_type": "code",
   "execution_count": 28,
   "metadata": {},
   "outputs": [
    {
     "data": {
      "image/png": "[encoded data removed]",
      "text/plain": [
       "<Figure size 432x288 with 1 Axes>"
      ]
     },
     "metadata": {
      "needs_background": "light"
     },
     "output_type": "display_data"
    }
   ],
   "source": [
    "# evalution -1 親嘴情侶對杯\n",
    "x_9 = [u'學士帽', u'定情', u'花', u'貓', u'另一半',\n",
    "     u'戀愛', u'海鮮', u'對杯']\n",
    "y_9 = [0.2506753206253052, 0.22827351093292236, 0.1676217019557953,0.16506870090961456, \n",
    "     0.14582772552967072, 0.13859227299690247, 0.12772846221923828, 0.12081585079431534]\n",
    "plt.title(\"親嘴情侶對杯分析結果\")\n",
    "plt.xlabel(\"Similarity\")\n",
    "\n",
    "plt.barh(x_9, y_9)\n",
    "plt.savefig('評估-親嘴情侶對杯分析結果.png')"
   ]
  },
  {
   "cell_type": "code",
   "execution_count": 29,
   "metadata": {},
   "outputs": [
    {
     "data": {
      "image/png": "[encoded data removed]",
      "text/plain": [
       "<Figure size 432x288 with 1 Axes>"
      ]
     },
     "metadata": {
      "needs_background": "light"
     },
     "output_type": "display_data"
    }
   ],
   "source": [
    "# evalution -2 滿滿的我愛你膠囊情書禮盒\n",
    "x_10 = [u'情話', u'愛你', u'暖心', u'柯基控', u'高中',\n",
    "     u'貓咪', u'我愛你', u'玫瑰', u'愛', u'貓']\n",
    "y_10 = [0.18809154629707336, 0.1853221356868744, 0.17894189059734344, 0.15585929155349731, \n",
    "     0.14521177113056183, 0.1445375233888626, 0.1434078961610794, 0.1434078961610794, 0.1344800889492035, 0.12501390278339386]\n",
    "plt.title(\"滿滿的我愛你膠囊情書禮盒分析結果\")\n",
    "plt.xlabel(\"Similarity\")\n",
    "\n",
    "plt.barh(x_10, y_10)\n",
    "plt.savefig('評估-滿滿的我愛你膠囊情書禮盒分析結果.png')"
   ]
  },
  {
   "cell_type": "code",
   "execution_count": 30,
   "metadata": {},
   "outputs": [
    {
     "data": {
      "image/png": "[encoded data removed]",
      "text/plain": [
       "<Figure size 432x288 with 1 Axes>"
      ]
     },
     "metadata": {
      "needs_background": "light"
     },
     "output_type": "display_data"
    }
   ],
   "source": [
    "# evalution -3 學生畢業拍照道具\n",
    "x_11 = [u'畢業季', u'胖柯基', u'永遠', u'毛小孩', u'學生',\n",
    "     u'另一半', u'同學', u'玫瑰']\n",
    "y_11 = [0.18044205009937286, 0.17976650595664978, 0.17056317627429962, 0.16763904690742493, \n",
    "     0.16474193334579468, 0.13225093483924866, 0.10760417580604553, 0.10097072273492813]\n",
    "plt.title(\"學生畢業拍照道具分析結果\")\n",
    "plt.xlabel(\"Similarity\")\n",
    "\n",
    "plt.barh(x_11, y_11)\n",
    "plt.savefig('評估-學生畢業拍照道具分析結果.png')"
   ]
  },
  {
   "cell_type": "code",
   "execution_count": 3,
   "metadata": {},
   "outputs": [
    {
     "data": {
      "text/html": [
       "<div>\n",
       "<style scoped>\n",
       "    .dataframe tbody tr th:only-of-type {\n",
       "        vertical-align: middle;\n",
       "    }\n",
       "\n",
       "    .dataframe tbody tr th {\n",
       "        vertical-align: top;\n",
       "    }\n",
       "\n",
       "    .dataframe thead th {\n",
       "        text-align: right;\n",
       "    }\n",
       "</style>\n",
       "<table border=\"1\" class=\"dataframe\">\n",
       "  <thead>\n",
       "    <tr style=\"text-align: right;\">\n",
       "      <th></th>\n",
       "      <th>Cluster</th>\n",
       "      <th>Product</th>\n",
       "    </tr>\n",
       "  </thead>\n",
       "  <tbody>\n",
       "    <tr>\n",
       "      <th>1</th>\n",
       "      <td>Cluster 1</td>\n",
       "      <td>吐司麵包表情抱枕  二合一寵物快乾吹毛梳 親嘴情侶對杯</td>\n",
       "    </tr>\n",
       "    <tr>\n",
       "      <th>2</th>\n",
       "      <td>Cluster 2</td>\n",
       "      <td>夜光筆記本 多功能磁吸式牙刷收納置物架 輕巧好攜帶紫外線消毒棒  會害羞的狗狗暖手行動充</td>\n",
       "    </tr>\n",
       "    <tr>\n",
       "      <th>3</th>\n",
       "      <td>Cluster 3</td>\n",
       "      <td>無力炸醬麵二合一抱枕毯  台幣美金鈔票造型毛巾 手繪動物系客製慶生盤 滿滿的我愛你膠囊情書禮盒</td>\n",
       "    </tr>\n",
       "    <tr>\n",
       "      <th>4</th>\n",
       "      <td>Cluster 4</td>\n",
       "      <td>瘋狂玩樂遊戲機立體造型卡片  可愛超人狗狗存錢筒  畢業禮物復古文藝羽毛筆 畢業熊花束 學生...</td>\n",
       "    </tr>\n",
       "  </tbody>\n",
       "</table>\n",
       "</div>"
      ],
      "text/plain": [
       "     Cluster                                            Product\n",
       "1  Cluster 1                        吐司麵包表情抱枕  二合一寵物快乾吹毛梳 親嘴情侶對杯\n",
       "2  Cluster 2      夜光筆記本 多功能磁吸式牙刷收納置物架 輕巧好攜帶紫外線消毒棒  會害羞的狗狗暖手行動充 \n",
       "3  Cluster 3    無力炸醬麵二合一抱枕毯  台幣美金鈔票造型毛巾 手繪動物系客製慶生盤 滿滿的我愛你膠囊情書禮盒\n",
       "4  Cluster 4  瘋狂玩樂遊戲機立體造型卡片  可愛超人狗狗存錢筒  畢業禮物復古文藝羽毛筆 畢業熊花束 學生..."
      ]
     },
     "execution_count": 3,
     "metadata": {},
     "output_type": "execute_result"
    }
   ],
   "source": [
    "# k means 推薦結果\n",
    "data_path_1 = 'C:/Users/USER/Desktop/giftern project/結果/'\n",
    "kmeans = pd.read_csv(data_path_1 + 'K  Means 結果.csv')\n",
    "\n",
    "kmeans.index = kmeans.index + 1\n",
    "kmeans.head()"
   ]
  },
  {
   "cell_type": "code",
   "execution_count": 41,
   "metadata": {},
   "outputs": [
    {
     "data": {
      "text/html": [
       "<div>\n",
       "<style scoped>\n",
       "    .dataframe tbody tr th:only-of-type {\n",
       "        vertical-align: middle;\n",
       "    }\n",
       "\n",
       "    .dataframe tbody tr th {\n",
       "        vertical-align: top;\n",
       "    }\n",
       "\n",
       "    .dataframe thead th {\n",
       "        text-align: right;\n",
       "    }\n",
       "</style>\n",
       "<table border=\"1\" class=\"dataframe\">\n",
       "  <thead>\n",
       "    <tr style=\"text-align: right;\">\n",
       "      <th></th>\n",
       "      <th>瘋狂玩樂遊戲機立體造型卡片</th>\n",
       "      <th>similarity</th>\n",
       "    </tr>\n",
       "  </thead>\n",
       "  <tbody>\n",
       "    <tr>\n",
       "      <th>1</th>\n",
       "      <td>畢業禮物復古文藝羽毛筆</td>\n",
       "      <td>1.414214</td>\n",
       "    </tr>\n",
       "    <tr>\n",
       "      <th>2</th>\n",
       "      <td>畢業熊花束</td>\n",
       "      <td>1.414214</td>\n",
       "    </tr>\n",
       "  </tbody>\n",
       "</table>\n",
       "</div>"
      ],
      "text/plain": [
       "  瘋狂玩樂遊戲機立體造型卡片  similarity\n",
       "1   畢業禮物復古文藝羽毛筆    1.414214\n",
       "2         畢業熊花束    1.414214"
      ]
     },
     "execution_count": 41,
     "metadata": {},
     "output_type": "execute_result"
    }
   ],
   "source": [
    "KNN_1 = pd.read_csv(data_path_1 + 'KNN - 1.csv')\n",
    "\n",
    "KNN_1['similarity'] = KNN_1['similarity'].round(decimals = 6)\n",
    "KNN_1.index = KNN_1.index + 1\n",
    "KNN_1.head()"
   ]
  },
  {
   "cell_type": "code",
   "execution_count": 35,
   "metadata": {},
   "outputs": [
    {
     "data": {
      "text/html": [
       "<div>\n",
       "<style scoped>\n",
       "    .dataframe tbody tr th:only-of-type {\n",
       "        vertical-align: middle;\n",
       "    }\n",
       "\n",
       "    .dataframe tbody tr th {\n",
       "        vertical-align: top;\n",
       "    }\n",
       "\n",
       "    .dataframe thead th {\n",
       "        text-align: right;\n",
       "    }\n",
       "</style>\n",
       "<table border=\"1\" class=\"dataframe\">\n",
       "  <thead>\n",
       "    <tr style=\"text-align: right;\">\n",
       "      <th></th>\n",
       "      <th>吐司麵包表情抱枕</th>\n",
       "      <th>similarity</th>\n",
       "    </tr>\n",
       "  </thead>\n",
       "  <tbody>\n",
       "    <tr>\n",
       "      <th>1</th>\n",
       "      <td>畢業禮物復古文藝羽毛筆</td>\n",
       "      <td>1.414214</td>\n",
       "    </tr>\n",
       "    <tr>\n",
       "      <th>2</th>\n",
       "      <td>畢業熊花束</td>\n",
       "      <td>1.414214</td>\n",
       "    </tr>\n",
       "  </tbody>\n",
       "</table>\n",
       "</div>"
      ],
      "text/plain": [
       "      吐司麵包表情抱枕  similarity\n",
       "1  畢業禮物復古文藝羽毛筆    1.414214\n",
       "2        畢業熊花束    1.414214"
      ]
     },
     "execution_count": 35,
     "metadata": {},
     "output_type": "execute_result"
    }
   ],
   "source": [
    "KNN_2 = pd.read_csv(data_path_1 + 'KNN - 2.csv')\n",
    "\n",
    "KNN_2.index = KNN_2.index + 1\n",
    "KNN_2.head()"
   ]
  },
  {
   "cell_type": "code",
   "execution_count": 36,
   "metadata": {},
   "outputs": [
    {
     "data": {
      "text/html": [
       "<div>\n",
       "<style scoped>\n",
       "    .dataframe tbody tr th:only-of-type {\n",
       "        vertical-align: middle;\n",
       "    }\n",
       "\n",
       "    .dataframe tbody tr th {\n",
       "        vertical-align: top;\n",
       "    }\n",
       "\n",
       "    .dataframe thead th {\n",
       "        text-align: right;\n",
       "    }\n",
       "</style>\n",
       "<table border=\"1\" class=\"dataframe\">\n",
       "  <thead>\n",
       "    <tr style=\"text-align: right;\">\n",
       "      <th></th>\n",
       "      <th>瘋狂玩樂遊戲機立體造型卡片</th>\n",
       "      <th>similarity</th>\n",
       "    </tr>\n",
       "  </thead>\n",
       "  <tbody>\n",
       "    <tr>\n",
       "      <th>1</th>\n",
       "      <td>畢業禮物復古文藝羽毛筆</td>\n",
       "      <td>1.414214</td>\n",
       "    </tr>\n",
       "    <tr>\n",
       "      <th>2</th>\n",
       "      <td>畢業熊花束</td>\n",
       "      <td>1.414214</td>\n",
       "    </tr>\n",
       "  </tbody>\n",
       "</table>\n",
       "</div>"
      ],
      "text/plain": [
       "  瘋狂玩樂遊戲機立體造型卡片  similarity\n",
       "1   畢業禮物復古文藝羽毛筆    1.414214\n",
       "2         畢業熊花束    1.414214"
      ]
     },
     "execution_count": 36,
     "metadata": {},
     "output_type": "execute_result"
    }
   ],
   "source": [
    "KNN_3 = pd.read_csv(data_path_1 + 'KNN - 1.csv')\n",
    "\n",
    "KNN_3.index = KNN_3.index + 1\n",
    "KNN_3.head()"
   ]
  },
  {
   "cell_type": "code",
   "execution_count": 5,
   "metadata": {},
   "outputs": [
    {
     "data": {
      "text/html": [
       "<div>\n",
       "<style scoped>\n",
       "    .dataframe tbody tr th:only-of-type {\n",
       "        vertical-align: middle;\n",
       "    }\n",
       "\n",
       "    .dataframe tbody tr th {\n",
       "        vertical-align: top;\n",
       "    }\n",
       "\n",
       "    .dataframe thead th {\n",
       "        text-align: right;\n",
       "    }\n",
       "</style>\n",
       "<table border=\"1\" class=\"dataframe\">\n",
       "  <thead>\n",
       "    <tr style=\"text-align: right;\">\n",
       "      <th></th>\n",
       "      <th>product name</th>\n",
       "      <th>price</th>\n",
       "      <th>gifter and receiver’s relationship</th>\n",
       "      <th>gifting purpose</th>\n",
       "      <th>gifting budget</th>\n",
       "      <th>receiver persona</th>\n",
       "    </tr>\n",
       "  </thead>\n",
       "  <tbody>\n",
       "    <tr>\n",
       "      <th>1</th>\n",
       "      <td>輕巧好攜帶紫外線消毒棒</td>\n",
       "      <td>1280</td>\n",
       "      <td>classmate</td>\n",
       "      <td>birthday gift</td>\n",
       "      <td>more than 1000</td>\n",
       "      <td>friend or classmate</td>\n",
       "    </tr>\n",
       "    <tr>\n",
       "      <th>2</th>\n",
       "      <td>會害羞的狗狗暖手行動充</td>\n",
       "      <td>1280</td>\n",
       "      <td>classmate</td>\n",
       "      <td>birthday gift</td>\n",
       "      <td>more than 1000</td>\n",
       "      <td>friend or classmate</td>\n",
       "    </tr>\n",
       "    <tr>\n",
       "      <th>3</th>\n",
       "      <td>無力炸醬麵二合一抱枕毯</td>\n",
       "      <td>990</td>\n",
       "      <td>owned pet or friend</td>\n",
       "      <td>pet's birthday gift</td>\n",
       "      <td>more than 500</td>\n",
       "      <td>pet or friend who is pet owner</td>\n",
       "    </tr>\n",
       "    <tr>\n",
       "      <th>4</th>\n",
       "      <td>夏夜星空｜夜光筆記本</td>\n",
       "      <td>450</td>\n",
       "      <td>owned pet or friend</td>\n",
       "      <td>birthday gift</td>\n",
       "      <td>less than 500</td>\n",
       "      <td>pet or friend who is pet owner</td>\n",
       "    </tr>\n",
       "    <tr>\n",
       "      <th>5</th>\n",
       "      <td>吐司麵包表情抱枕</td>\n",
       "      <td>390</td>\n",
       "      <td>owned pet or friend</td>\n",
       "      <td>pet's birthday gift</td>\n",
       "      <td>less than 500</td>\n",
       "      <td>pet or friend who is pet owner</td>\n",
       "    </tr>\n",
       "    <tr>\n",
       "      <th>6</th>\n",
       "      <td>瘋狂玩樂遊戲機立體造型卡片</td>\n",
       "      <td>720</td>\n",
       "      <td>couple</td>\n",
       "      <td>anniversary gift</td>\n",
       "      <td>more than 500</td>\n",
       "      <td>boyfriend or girlfriend</td>\n",
       "    </tr>\n",
       "    <tr>\n",
       "      <th>7</th>\n",
       "      <td>可愛超人狗狗存錢筒</td>\n",
       "      <td>390</td>\n",
       "      <td>couple</td>\n",
       "      <td>birthday gift or anniversary gift</td>\n",
       "      <td>less than 500</td>\n",
       "      <td>boyfriend or girlfriend</td>\n",
       "    </tr>\n",
       "    <tr>\n",
       "      <th>8</th>\n",
       "      <td>台幣美金鈔票造型毛巾</td>\n",
       "      <td>390</td>\n",
       "      <td>couple</td>\n",
       "      <td>birthday gift or anniversary gift</td>\n",
       "      <td>less than 500</td>\n",
       "      <td>boyfriend</td>\n",
       "    </tr>\n",
       "    <tr>\n",
       "      <th>9</th>\n",
       "      <td>多功能磁吸式牙刷收納置物架</td>\n",
       "      <td>490</td>\n",
       "      <td>none</td>\n",
       "      <td>none</td>\n",
       "      <td>none</td>\n",
       "      <td>none</td>\n",
       "    </tr>\n",
       "  </tbody>\n",
       "</table>\n",
       "</div>"
      ],
      "text/plain": [
       "    product name  price  gifter and receiver’s relationship  \\\n",
       "1    輕巧好攜帶紫外線消毒棒   1280                           classmate   \n",
       "2    會害羞的狗狗暖手行動充   1280                           classmate   \n",
       "3    無力炸醬麵二合一抱枕毯    990                 owned pet or friend   \n",
       "4     夏夜星空｜夜光筆記本    450                 owned pet or friend   \n",
       "5       吐司麵包表情抱枕    390                 owned pet or friend   \n",
       "6  瘋狂玩樂遊戲機立體造型卡片    720                              couple   \n",
       "7      可愛超人狗狗存錢筒    390                              couple   \n",
       "8     台幣美金鈔票造型毛巾    390                              couple   \n",
       "9  多功能磁吸式牙刷收納置物架    490                                none   \n",
       "\n",
       "                     gifting purpose  gifting budget  \\\n",
       "1                      birthday gift  more than 1000   \n",
       "2                      birthday gift  more than 1000   \n",
       "3                pet's birthday gift   more than 500   \n",
       "4                      birthday gift   less than 500   \n",
       "5                pet's birthday gift   less than 500   \n",
       "6                   anniversary gift   more than 500   \n",
       "7  birthday gift or anniversary gift   less than 500   \n",
       "8  birthday gift or anniversary gift   less than 500   \n",
       "9                               none           none    \n",
       "\n",
       "                 receiver persona  \n",
       "1             friend or classmate  \n",
       "2             friend or classmate  \n",
       "3  pet or friend who is pet owner  \n",
       "4  pet or friend who is pet owner  \n",
       "5  pet or friend who is pet owner  \n",
       "6         boyfriend or girlfriend  \n",
       "7         boyfriend or girlfriend  \n",
       "8                     boyfriend    \n",
       "9                            none  "
      ]
     },
     "execution_count": 5,
     "metadata": {},
     "output_type": "execute_result"
    }
   ],
   "source": [
    "recommend_result = pd.read_csv(data_path_1 + '推薦結果-word2vec.csv')\n",
    "\n",
    "recommend_result.index = recommend_result.index + 1\n",
    "recommend_result.head(10)"
   ]
  }
 ],
 "metadata": {
  "kernelspec": {
   "display_name": "Python 3",
   "language": "python",
   "name": "python3"
  },
  "language_info": {
   "codemirror_mode": {
    "name": "ipython",
    "version": 3
   },
   "file_extension": ".py",
   "mimetype": "text/x-python",
   "name": "python",
   "nbconvert_exporter": "python",
   "pygments_lexer": "ipython3",
   "version": "3.7.7"
  }
 },
 "nbformat": 4,
 "nbformat_minor": 4
}
