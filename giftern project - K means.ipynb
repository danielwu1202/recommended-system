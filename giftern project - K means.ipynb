{
 "cells": [
  {
   "cell_type": "code",
   "execution_count": 65,
   "metadata": {},
   "outputs": [],
   "source": [
    "from collections import Counter\n",
    "import json\n",
    "import math\n",
    "import random\n",
    "import re\n",
    "import pandas as pd\n",
    "import matplotlib.pyplot as plt\n",
    "\n",
    "import jieba\n",
    "import jieba.analyse\n",
    "import numpy as np\n",
    "from sklearn.feature_extraction.text import CountVectorizer, TfidfTransformer\n",
    "from sklearn.feature_extraction.text import TfidfVectorizer\n",
    "import warnings\n",
    "warnings.filterwarnings('ignore')"
   ]
  },
  {
   "cell_type": "code",
   "execution_count": 2,
   "metadata": {},
   "outputs": [
    {
     "name": "stderr",
     "output_type": "stream",
     "text": [
      "Building prefix dict from the default dictionary ...\n",
      "Loading model from cache C:\\Users\\USER\\AppData\\Local\\Temp\\jieba.cache\n",
      "Loading model cost 1.700 seconds.\n",
      "Prefix dict has been built successfully.\n"
     ]
    }
   ],
   "source": [
    "jieba.load_userdict(\"辭典_2.txt\")"
   ]
  },
  {
   "cell_type": "code",
   "execution_count": 67,
   "metadata": {},
   "outputs": [],
   "source": [
    "class KMeans:\n",
    "    def cal_dist(self, p0, p1):\n",
    "        \"\"\"\n",
    "        比較兩點的距離\n",
    "        \"\"\"\n",
    "        return np.sqrt(np.sum((p0-p1)**2))\n",
    "\n",
    "    def kmeans(self, datapoints, k=2):\n",
    "        # 定義資料維度\n",
    "        d = datapoints.shape[1]\n",
    "        # 最大的迭代次數\n",
    "        Max_Iterations = 1000\n",
    "\n",
    "        cluster = np.zeros(datapoints.shape[0])\n",
    "        prev_cluster = np.ones(datapoints.shape[0])\n",
    "\n",
    "        cluster_centers = []\n",
    "        for i in range(k):\n",
    "            cluster_centers += [random.choice(datapoints)]\n",
    "\n",
    "        iteration = 0\n",
    "        while np.array_equal(cluster, prev_cluster) is False or iteration > Max_Iterations:\n",
    "            iteration += 1\n",
    "            prev_cluster = cluster.copy()\n",
    "\n",
    "            # 將每一個點做分群\n",
    "            for idx, point in enumerate(datapoints):\n",
    "                min_dist = float(\"inf\")\n",
    "                for c, cluster_center in enumerate(cluster_centers):\n",
    "                    dist = self.cal_dist(point, cluster_center)\n",
    "                    if dist < min_dist:\n",
    "                        min_dist = dist  \n",
    "                        cluster[idx] = c   # 指定該點屬於哪個分群\n",
    "\n",
    "            # 更新分群的中心\n",
    "            for k in range(len(cluster_centers)):\n",
    "                new_center = np.zeros(d)\n",
    "                members = 0\n",
    "                for point, c in zip(datapoints, cluster):\n",
    "                    if c == k:\n",
    "                        new_center += point\n",
    "                        members += 1\n",
    "                if members > 0:\n",
    "                    new_center = new_center / members\n",
    "                cluster_centers[k] = new_center\n",
    "\n",
    "        return cluster"
   ]
  },
  {
   "cell_type": "code",
   "execution_count": 4,
   "metadata": {},
   "outputs": [
    {
     "data": {
      "text/html": [
       "<div>\n",
       "<style scoped>\n",
       "    .dataframe tbody tr th:only-of-type {\n",
       "        vertical-align: middle;\n",
       "    }\n",
       "\n",
       "    .dataframe tbody tr th {\n",
       "        vertical-align: top;\n",
       "    }\n",
       "\n",
       "    .dataframe thead th {\n",
       "        text-align: right;\n",
       "    }\n",
       "</style>\n",
       "<table border=\"1\" class=\"dataframe\">\n",
       "  <thead>\n",
       "    <tr style=\"text-align: right;\">\n",
       "      <th></th>\n",
       "      <th>產品名稱</th>\n",
       "      <th>產品特徵</th>\n",
       "    </tr>\n",
       "  </thead>\n",
       "  <tbody>\n",
       "    <tr>\n",
       "      <th>0</th>\n",
       "      <td>瘋狂玩樂遊戲機立體造型卡片</td>\n",
       "      <td>遊戲機 造型卡片</td>\n",
       "    </tr>\n",
       "    <tr>\n",
       "      <th>1</th>\n",
       "      <td>無力炸醬麵二合一抱枕毯</td>\n",
       "      <td>炸醬麵  抱枕毯</td>\n",
       "    </tr>\n",
       "    <tr>\n",
       "      <th>2</th>\n",
       "      <td>夜光筆記本</td>\n",
       "      <td>夜光 筆記本</td>\n",
       "    </tr>\n",
       "    <tr>\n",
       "      <th>3</th>\n",
       "      <td>可愛超人狗狗存錢筒</td>\n",
       "      <td>超人 狗狗 存錢筒</td>\n",
       "    </tr>\n",
       "    <tr>\n",
       "      <th>4</th>\n",
       "      <td>多功能磁吸式牙刷收納置物架</td>\n",
       "      <td>多功能 磁吸式 牙刷 收納 置物架</td>\n",
       "    </tr>\n",
       "  </tbody>\n",
       "</table>\n",
       "</div>"
      ],
      "text/plain": [
       "             產品名稱               產品特徵\n",
       "0  瘋狂玩樂遊戲機立體造型卡片           遊戲機 造型卡片 \n",
       "1    無力炸醬麵二合一抱枕毯           炸醬麵  抱枕毯 \n",
       "2           夜光筆記本             夜光 筆記本\n",
       "3      可愛超人狗狗存錢筒          超人 狗狗 存錢筒 \n",
       "4   多功能磁吸式牙刷收納置物架  多功能 磁吸式 牙刷 收納 置物架"
      ]
     },
     "execution_count": 4,
     "metadata": {},
     "output_type": "execute_result"
    }
   ],
   "source": [
    "# 讀取資料\n",
    "gift = pd.read_csv('禮物名單- k means.csv', encoding = 'utf-8')\n",
    "gift.head()"
   ]
  },
  {
   "cell_type": "code",
   "execution_count": 5,
   "metadata": {},
   "outputs": [],
   "source": [
    "gift_name = gift['產品名稱']\n",
    "gift_feature = gift['產品特徵']"
   ]
  },
  {
   "cell_type": "code",
   "execution_count": 6,
   "metadata": {},
   "outputs": [],
   "source": [
    "vectorizer = TfidfVectorizer()\n",
    "transformer = TfidfTransformer()\n",
    "tfidf = transformer.fit_transform(vectorizer.fit_transform(gift_feature))\n",
    "bag_of_words = vectorizer.get_feature_names()\n",
    "weight = tfidf.toarray()\n",
    "\n",
    "gift_most_related_words = {}\n",
    "for i in range(len(weight)): \n",
    "    w = dict(zip(bag_of_words, weight[i]))\n",
    "    w = sorted(w.items(), key=lambda x: x[1], reverse=True)\n",
    "    top_10 = []\n",
    "    for word, prob in w[:10]:\n",
    "        if prob > 0:\n",
    "            top_10.append(word)\n",
    "    gift_most_related_words.update({gift_name[i]: top_10})"
   ]
  },
  {
   "cell_type": "code",
   "execution_count": 7,
   "metadata": {},
   "outputs": [
    {
     "data": {
      "text/plain": [
       "{'瘋狂玩樂遊戲機立體造型卡片 ': ['造型卡片', '遊戲機'],\n",
       " '無力炸醬麵二合一抱枕毯 ': ['抱枕毯', '炸醬麵'],\n",
       " '夜光筆記本': ['夜光', '筆記本'],\n",
       " '可愛超人狗狗存錢筒 ': ['存錢筒', '超人', '狗狗'],\n",
       " '多功能磁吸式牙刷收納置物架': ['多功能', '收納', '牙刷', '磁吸式', '置物架'],\n",
       " '輕巧好攜帶紫外線消毒棒 ': ['好攜帶', '消毒棒', '紫外線', '輕巧'],\n",
       " '吐司麵包表情抱枕 ': ['吐司', '抱枕', '麵包'],\n",
       " '台幣美金鈔票造型毛巾': ['台幣', '美金', '造型毛巾', '鈔票'],\n",
       " '會害羞的狗狗暖手行動充 ': ['暖手行動充', '狗狗'],\n",
       " '畢業禮物復古文藝羽毛筆': ['禮物', '羽毛筆', '畢業'],\n",
       " '畢業熊花束': ['花束', '畢業'],\n",
       " '學生畢業拍照道具': ['學生', '拍照道具', '畢業'],\n",
       " '二合一寵物快乾吹毛梳': ['吹毛梳', '寵物', '快乾'],\n",
       " '手繪動物系客製慶生盤': ['動物系', '慶生盤'],\n",
       " '貓咪隧道': ['貓咪', '隧道'],\n",
       " '愛的模樣100種戀愛挑戰': ['戀愛'],\n",
       " '滿滿的我愛你膠囊情書禮盒': ['情書', '我愛你'],\n",
       " '親嘴情侶對杯': ['對杯', '情侶', '親嘴']}"
      ]
     },
     "execution_count": 7,
     "metadata": {},
     "output_type": "execute_result"
    }
   ],
   "source": [
    "gift_most_related_words"
   ]
  },
  {
   "cell_type": "code",
   "execution_count": 8,
   "metadata": {},
   "outputs": [],
   "source": [
    "X = vectorizer.fit_transform([' '.join(w) for w in list(gift_most_related_words.values())]) \n",
    "X = X.toarray()"
   ]
  },
  {
   "cell_type": "code",
   "execution_count": 70,
   "metadata": {},
   "outputs": [
    {
     "name": "stdout",
     "output_type": "stream",
     "text": [
      "Cluster 0: 吐司麵包表情抱枕  二合一寵物快乾吹毛梳 親嘴情侶對杯\n",
      "Cluster 1: 夜光筆記本 多功能磁吸式牙刷收納置物架 輕巧好攜帶紫外線消毒棒  會害羞的狗狗暖手行動充 \n",
      "Cluster 2: 無力炸醬麵二合一抱枕毯  台幣美金鈔票造型毛巾 手繪動物系客製慶生盤 滿滿的我愛你膠囊情書禮盒\n",
      "Cluster 3: 瘋狂玩樂遊戲機立體造型卡片  可愛超人狗狗存錢筒  畢業禮物復古文藝羽毛筆 畢業熊花束 學生畢業拍照道具 貓咪隧道 愛的模樣100種戀愛挑戰\n"
     ]
    }
   ],
   "source": [
    "k = 4\n",
    "K = KMeans()\n",
    "gift_cluster_result = K.kmeans(X, k)\n",
    "cluster = [[] for _ in range(k)]\n",
    "\n",
    "for idx, c in enumerate(gift_cluster_result):\n",
    "    cluster[int(c)].append(gift_name[idx])\n",
    "    \n",
    "for c, result in enumerate(cluster):\n",
    "    print('Cluster {}: {}'.format(c, ' '.join(result)))"
   ]
  }
 ],
 "metadata": {
  "kernelspec": {
   "display_name": "Python 3",
   "language": "python",
   "name": "python3"
  },
  "language_info": {
   "codemirror_mode": {
    "name": "ipython",
    "version": 3
   },
   "file_extension": ".py",
   "mimetype": "text/x-python",
   "name": "python",
   "nbconvert_exporter": "python",
   "pygments_lexer": "ipython3",
   "version": "3.7.7"
  }
 },
 "nbformat": 4,
 "nbformat_minor": 4
}
